{
 "cells": [
  {
   "cell_type": "code",
   "execution_count": 1,
   "metadata": {},
   "outputs": [
    {
     "name": "stdout",
     "output_type": "stream",
     "text": [
      "2.0.6\n"
     ]
    }
   ],
   "source": [
    "import threading, time, sys\n",
    "import rtmidi\n",
    "import musx\n",
    "print(musx.version)"
   ]
  },
  {
   "cell_type": "code",
   "execution_count": 2,
   "metadata": {},
   "outputs": [
    {
     "name": "stdout",
     "output_type": "stream",
     "text": [
      "<rtmidi._rtmidi.MidiOut object at 0x000002B4F698C590>\n",
      "available ports: ['Microsoft GS Wavetable Synth 0', 'charjabug 1', 'mio 2']\n"
     ]
    }
   ],
   "source": [
    "midiout = rtmidi.MidiOut()\n",
    "print(midiout)\n",
    "outports = midiout.get_ports()\n",
    "print(\"available ports:\", outports) "
   ]
  },
  {
   "cell_type": "code",
   "execution_count": 3,
   "metadata": {},
   "outputs": [
    {
     "data": {
      "text/plain": [
       "<rtmidi._rtmidi.MidiOut at 0x2b4f698c590>"
      ]
     },
     "execution_count": 3,
     "metadata": {},
     "output_type": "execute_result"
    }
   ],
   "source": [
    "loop_midi_outport = 'mio 2'  # find loop midi\n",
    "midiout.open_port(outports.index(loop_midi_outport))"
   ]
  },
  {
   "cell_type": "code",
   "execution_count": 4,
   "metadata": {},
   "outputs": [
    {
     "name": "stdout",
     "output_type": "stream",
     "text": [
      "<rtmidi._rtmidi.MidiIn object at 0x000002B49449CD10>\n",
      "available input ports: ['charjabug 0', 'mio 1']\n"
     ]
    }
   ],
   "source": [
    "midiin = rtmidi.MidiIn()\n",
    "print(midiin)\n",
    "inports = midiin.get_ports()\n",
    "print(\"available input ports:\", inports)"
   ]
  },
  {
   "cell_type": "code",
   "execution_count": 5,
   "metadata": {},
   "outputs": [
    {
     "data": {
      "text/plain": [
       "<rtmidi._rtmidi.MidiIn at 0x2b49449cd10>"
      ]
     },
     "execution_count": 5,
     "metadata": {},
     "output_type": "execute_result"
    }
   ],
   "source": [
    "midi_controller_port = 'mio 1'  # find midi controller\n",
    "midiin.open_port(inports.index(midi_controller_port))"
   ]
  },
  {
   "cell_type": "code",
   "execution_count": 6,
   "metadata": {},
   "outputs": [],
   "source": [
    "from musx import Pitch, Interval\n",
    "\n",
    "CUTOFF = Pitch('C4')\n",
    "\n",
    "def arpeggiator(message, test):\n",
    "    print(message, test)\n",
    "    NOTE_INDEX = 1\n",
    "    VEL_INDEX = 2\n",
    "    NOTE_ON = 144\n",
    "    root = message[NOTE_INDEX]\n",
    "    vel = message[VEL_INDEX]\n",
    "    is_note_on = message[0] == NOTE_ON\n",
    "\n",
    "    root_pitch = Pitch.from_keynum(root)\n",
    "\n",
    "    if root_pitch < CUTOFF:\n",
    "      return\n",
    "\n",
    "    chord_intervals = [Interval('P4'), Interval('P5'), Interval('P8')]\n",
    "    maj_chord = [i.transpose(root_pitch) for i in chord_intervals]\n",
    "\n",
    "    print(maj_chord)\n",
    "    \n",
    "    if is_note_on:\n",
    "      for pitch in maj_chord:\n",
    "        midiout.send_message(musx.note_on(0, pitch.keynum(), vel))\n",
    "        time.sleep(0.14)\n",
    "        midiout.send_message(musx.note_off(0, pitch.keynum(), vel))\n",
    "    else:\n",
    "      for pitch in maj_chord:\n",
    "        midiout.send_message(musx.note_off(0, pitch.keynum(), 127))\n",
    "\n",
    "    # time.sleep(.5)\n",
    "\n",
    "# midiin.set_callback(arpeggiator)"
   ]
  },
  {
   "cell_type": "code",
   "execution_count": 8,
   "metadata": {},
   "outputs": [
    {
     "name": "stdout",
     "output_type": "stream",
     "text": [
      "([144, 60, 57], 17.774)\n",
      "[144, 60, 57] 17.774\n",
      "[Pitch(\"F4\"), Pitch(\"G4\"), Pitch(\"C5\")]\n",
      "([176, 64, 61], 0.179)\n",
      "[176, 64, 61] 0.179\n",
      "[Pitch(\"A4\"), Pitch(\"B4\"), Pitch(\"E5\")]\n",
      "([176, 64, 67], 0.008)\n",
      "[176, 64, 67] 0.008\n",
      "[Pitch(\"A4\"), Pitch(\"B4\"), Pitch(\"E5\")]\n",
      "([176, 64, 72], 0.008)\n",
      "[176, 64, 72] 0.008\n",
      "[Pitch(\"A4\"), Pitch(\"B4\"), Pitch(\"E5\")]\n",
      "([176, 64, 76], 0.008)\n",
      "[176, 64, 76]([176, 64, 80], 0.035)\n",
      " 0.008\n",
      "[Pitch(\"A4\"), Pitch(\"B4\"), Pitch(\"E5\")]\n",
      "[176, 64, 80] 0.035\n",
      "[Pitch(\"A4\"), Pitch(\"B4\"), Pitch(\"E5\")]\n",
      "([176, 64, 127], 0.10400000000000001)\n",
      "[176, 64, 127] 0.10400000000000001\n",
      "([144, 60, 0], 0.099)[Pitch(\"A4\"), Pitch(\"B4\"), Pitch(\"E5\")]\n",
      "\n",
      "[144, 60, 0]([176, 64, 81], 0.266) 0.099\n",
      "[Pitch(\"F4\"), Pitch(\"G4\"), Pitch(\"C5\")]\n",
      "\n",
      "[176, 64, 81]([176, 64, 75], 0.008) 0.266\n",
      "[Pitch(\"A4\"), Pitch(\"B4\"), Pitch(\"E5\")]\n",
      "\n",
      "[176, 64, 75]([176, 64, 71], 0.003)\n",
      " 0.008[176, 64, 71] 0.003\n",
      "([176, 64, 65], 0.008)\n",
      "\n",
      "[Pitch(\"A4\"), Pitch(\"B4\"), Pitch(\"E5\")]\n",
      "[176, 64, 65] 0.008\n",
      "[Pitch(\"A4\"), Pitch(\"B4\"), Pitch(\"E5\")]\n",
      "([176, 64, 60], 0.008)[Pitch(\"A4\"), Pitch(\"B4\"), Pitch(\"E5\")]\n",
      "\n",
      "[176, 64, 60] 0.008\n",
      "[Pitch(\"A4\"), Pitch(\"B4\"), Pitch(\"E5\")]\n",
      "([176, 64, 0], 0.008)\n",
      "[176, 64, 0] 0.008\n",
      "[Pitch(\"A4\"), Pitch(\"B4\"), Pitch(\"E5\")]\n",
      "([144, 48, 60], 0.117)\n",
      "[144, 48, 60] ([144, 48, 0], 0.17)0.117\n",
      "\n",
      "[144, 48, 0]([144, 60, 63], 0.264)\n",
      " 0.17\n",
      "[144, 60, 63]([144, 60, 0], 0.122)\n",
      " 0.264\n",
      "[Pitch(\"F4\"), Pitch(\"G4\"), Pitch(\"C5\")]\n",
      "[144, 60, 0]([144, 72, 67], 0.257)\n",
      " [144, 72, 67]0.122\n",
      "[Pitch(\"F4\"), Pitch(\"G4\"), Pitch(\"C5\")]\n",
      "([144, 72, 0], 0.507)\n",
      " 0.257\n",
      "[Pitch(\"F5\"), Pitch(\"G5\"), Pitch(\"C6\")]\n",
      "[144, 72, 0] 0.507\n",
      "[Pitch(\"F5\"), Pitch(\"G5\"), Pitch(\"C6\")]\n",
      "([144, 72, 54], 6.551)\n",
      "[144, 72, 54] 6.551\n",
      "[Pitch(\"F5\"), Pitch(\"G5\"), Pitch(\"C6\")]\n",
      "([144, 72, 0], 0.835)\n",
      "[144, 72, 0] 0.835\n",
      "[Pitch(\"F5\"), Pitch(\"G5\"), Pitch(\"C6\")]\n",
      "([144, 60, 63], 0.309)\n",
      "[144, 60, 63] 0.309\n",
      "[Pitch(\"F4\"), Pitch(\"G4\"), Pitch(\"C5\")]\n",
      "([144, 60, 0], 1.018)\n",
      "[144, 60, 0] 1.018\n",
      "[Pitch(\"F4\"), Pitch(\"G4\"), Pitch(\"C5\")]\n"
     ]
    },
    {
     "ename": "KeyboardInterrupt",
     "evalue": "",
     "output_type": "error",
     "traceback": [
      "\u001b[1;31m---------------------------------------------------------------------------\u001b[0m",
      "\u001b[1;31mKeyboardInterrupt\u001b[0m                         Traceback (most recent call last)",
      "\u001b[1;32mC:\\Users\\RENZOL~1\\AppData\\Local\\Temp/ipykernel_12740/333037210.py\u001b[0m in \u001b[0;36m<module>\u001b[1;34m\u001b[0m\n\u001b[0;32m      7\u001b[0m \u001b[1;33m\u001b[0m\u001b[0m\n\u001b[0;32m      8\u001b[0m \u001b[1;32mwhile\u001b[0m \u001b[1;32mTrue\u001b[0m\u001b[1;33m:\u001b[0m\u001b[1;33m\u001b[0m\u001b[1;33m\u001b[0m\u001b[0m\n\u001b[1;32m----> 9\u001b[1;33m   \u001b[0mcallback\u001b[0m\u001b[1;33m(\u001b[0m\u001b[1;33m)\u001b[0m\u001b[1;33m\u001b[0m\u001b[1;33m\u001b[0m\u001b[0m\n\u001b[0m",
      "\u001b[1;32mC:\\Users\\RENZOL~1\\AppData\\Local\\Temp/ipykernel_12740/333037210.py\u001b[0m in \u001b[0;36mcallback\u001b[1;34m()\u001b[0m\n\u001b[1;32m----> 1\u001b[1;33m \u001b[1;32mdef\u001b[0m \u001b[0mcallback\u001b[0m\u001b[1;33m(\u001b[0m\u001b[1;33m)\u001b[0m\u001b[1;33m:\u001b[0m\u001b[1;33m\u001b[0m\u001b[1;33m\u001b[0m\u001b[0m\n\u001b[0m\u001b[0;32m      2\u001b[0m   \u001b[0mmsg\u001b[0m \u001b[1;33m=\u001b[0m \u001b[0mmidiin\u001b[0m\u001b[1;33m.\u001b[0m\u001b[0mget_message\u001b[0m\u001b[1;33m(\u001b[0m\u001b[1;33m)\u001b[0m\u001b[1;33m\u001b[0m\u001b[1;33m\u001b[0m\u001b[0m\n\u001b[0;32m      3\u001b[0m   \u001b[1;32mif\u001b[0m \u001b[0mmsg\u001b[0m \u001b[1;32mis\u001b[0m \u001b[1;32mnot\u001b[0m \u001b[1;32mNone\u001b[0m\u001b[1;33m:\u001b[0m\u001b[1;33m\u001b[0m\u001b[1;33m\u001b[0m\u001b[0m\n\u001b[0;32m      4\u001b[0m     \u001b[0mprint\u001b[0m\u001b[1;33m(\u001b[0m\u001b[0mmsg\u001b[0m\u001b[1;33m)\u001b[0m\u001b[1;33m\u001b[0m\u001b[1;33m\u001b[0m\u001b[0m\n\u001b[0;32m      5\u001b[0m     \u001b[0mt\u001b[0m \u001b[1;33m=\u001b[0m \u001b[0mthreading\u001b[0m\u001b[1;33m.\u001b[0m\u001b[0mThread\u001b[0m\u001b[1;33m(\u001b[0m\u001b[0mtarget\u001b[0m\u001b[1;33m=\u001b[0m\u001b[0marpeggiator\u001b[0m\u001b[1;33m,\u001b[0m \u001b[0margs\u001b[0m\u001b[1;33m=\u001b[0m\u001b[1;33m(\u001b[0m\u001b[0mmsg\u001b[0m\u001b[1;33m)\u001b[0m\u001b[1;33m)\u001b[0m\u001b[1;33m\u001b[0m\u001b[1;33m\u001b[0m\u001b[0m\n",
      "\u001b[1;31mKeyboardInterrupt\u001b[0m: "
     ]
    }
   ],
   "source": [
    "def callback():\n",
    "  msg = midiin.get_message()\n",
    "  if msg is not None:\n",
    "    print(msg)\n",
    "    t = threading.Thread(target=arpeggiator, args=(msg))\n",
    "    t.start()\n",
    "\n",
    "while True:\n",
    "  callback()"
   ]
  }
 ],
 "metadata": {
  "interpreter": {
   "hash": "e379d0950867c636cba000115880b0ff1e917da5697c4d378b0e112959d29fd1"
  },
  "kernelspec": {
   "display_name": "Python 3.9.4 64-bit ('venv': venv)",
   "name": "python3"
  },
  "language_info": {
   "codemirror_mode": {
    "name": "ipython",
    "version": 3
   },
   "file_extension": ".py",
   "mimetype": "text/x-python",
   "name": "python",
   "nbconvert_exporter": "python",
   "pygments_lexer": "ipython3",
   "version": "3.9.4"
  },
  "orig_nbformat": 4
 },
 "nbformat": 4,
 "nbformat_minor": 2
}
