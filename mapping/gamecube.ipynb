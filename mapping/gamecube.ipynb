{
 "cells": [
  {
   "cell_type": "code",
   "execution_count": 63,
   "metadata": {},
   "outputs": [],
   "source": [
    "import musx\n",
    "from musx import Interval\n",
    "from musx.midi.gm import Marimba, PizzicatoStrings, ElectricSnare\n",
    "from musx.ran import beta, between, brown, odds, uniran\n",
    "SNARE = ElectricSnare + 1\n",
    "\n",
    "\n",
    "def gamecube(q, envelope: list, mode: str, num_notes: int, min_key: int, max_key: int, rhy: float, chord_intervals=[], chord_chance=0.2):\n",
    "    play_strings = True\n",
    "    for i in range(num_notes):\n",
    "        x = musx.rescale(i, 0, num_notes, 0, 1)  # get position in composition\n",
    "        # get mapped x value from envelope\n",
    "        y = musx.interp(x, envelope, mode=mode)\n",
    "\n",
    "        # Take y and convert to keynum based on arguments\n",
    "        min_env_val, max_env_val = min(envelope), max(envelope)\n",
    "        key = musx.rescale(y, min_env_val, max_env_val, min_key, max_key)\n",
    "\n",
    "        # Get note\n",
    "        dur = 0.25\n",
    "        amp = 0.8\n",
    "        root_pitch = musx.Pitch.from_keynum(int(key))\n",
    "\n",
    "        # Add marimba\n",
    "        marimba = musx.Note(time=q.now, duration=dur,\n",
    "                            pitch=root_pitch.keynum(), amplitude=amp, instrument=0)\n",
    "        q.add(marimba)\n",
    "\n",
    "        # Add strings, if necessary\n",
    "        if play_strings:\n",
    "            if odds(chord_chance):\n",
    "                pitches = [root_pitch] + \\\n",
    "                    [i.transpose(root_pitch) for i in chord_intervals]\n",
    "                for p in pitches:\n",
    "                    pizz = musx.Note(time=q.now, duration=dur,\n",
    "                                     pitch=p.keynum(), amplitude=amp, instrument=1)\n",
    "                    q.add(pizz)\n",
    "            else:\n",
    "                q.add(musx.Note(time=q.now, duration=dur, pitch=root_pitch.keynum(\n",
    "                ) + between(-5, 5), amplitude=amp, instrument=1))\n",
    "        play_strings = not play_strings\n",
    "        yield rhy\n",
    "\n",
    "    # Pause\n",
    "    yield rhy * 4\n",
    "\n",
    "    # Add snare roll\n",
    "    q.add(musx.Note(time=q.now, duration=dur,\n",
    "          pitch=SNARE, amplitude=amp/4, instrument=9))\n",
    "    yield rhy/2\n",
    "    q.add(musx.Note(time=q.now, duration=dur,\n",
    "          pitch=SNARE, amplitude=amp/2, instrument=9))\n",
    "    yield rhy/2\n",
    "\n",
    "    # Play hit at the end\n",
    "    pitches = [musx.Pitch.from_keynum(between(min_key, max_key))] + \\\n",
    "        [i.transpose(root_pitch) for i in chord_intervals]\n",
    "    for p in pitches:\n",
    "        pizz = musx.Note(time=q.now, duration=dur,\n",
    "                         pitch=p.keynum(), amplitude=amp, instrument=1)\n",
    "        q.add(pizz)\n",
    "    q.add(musx.Note(time=q.now, duration=dur,\n",
    "          pitch=SNARE, amplitude=amp, instrument=9))\n"
   ]
  },
  {
   "cell_type": "code",
   "execution_count": 64,
   "metadata": {},
   "outputs": [
    {
     "name": "stdout",
     "output_type": "stream",
     "text": [
      "[0.4, 0.15, 0.53, 0.88, 0.68, 0.92, 0.35, 0.74, 0.82, 0.71, 0.99, 0.03, 1.0, 0.54, 0.62, 0.4, 0.27, 0.67, 0.11, 0.05]\n"
     ]
    }
   ],
   "source": [
    "sequence = musx.Seq()\n",
    "envelope_score = musx.Score(sequence)\n",
    "ENV_LENGTH = 20\n",
    "envelope = [round(uniran(), 2) for _ in range(ENV_LENGTH)]\n",
    "MODE = 'cos'\n",
    "print(envelope)"
   ]
  },
  {
   "cell_type": "code",
   "execution_count": 65,
   "metadata": {},
   "outputs": [],
   "source": [
    "import matplotlib.pyplot as plt\n",
    "\n",
    "def plot(data):\n",
    "    plt.plot(data)\n",
    "    plt.show()"
   ]
  },
  {
   "cell_type": "code",
   "execution_count": 66,
   "metadata": {},
   "outputs": [
    {
     "data": {
      "image/png": "[encoded data removed]",
      "text/plain": [
       "<Figure size 432x288 with 1 Axes>"
      ]
     },
     "metadata": {
      "needs_background": "light"
     },
     "output_type": "display_data"
    }
   ],
   "source": [
    "data = []\n",
    "for x in musx.frange(0, 1, .1):\n",
    "    y = musx.interp(x, envelope, mode=MODE)\n",
    "    data.append(y)\n",
    "plot(data)"
   ]
  },
  {
   "cell_type": "code",
   "execution_count": 67,
   "metadata": {},
   "outputs": [
    {
     "name": "stdout",
     "output_type": "stream",
     "text": [
      "OK!\n"
     ]
    }
   ],
   "source": [
    "NUM_NOTES = 70\n",
    "MIN_KEY, MAX_KEY = 40, 100\n",
    "rhy = 0.12\n",
    "envelope_score.compose([0, gamecube(envelope_score, envelope, MODE, NUM_NOTES, MIN_KEY, MAX_KEY, rhy, [\n",
    "    Interval('M3'), Interval('P5'), Interval('M7')\n",
    "])])\n",
    "track0 = musx.MidiFile.metatrack(ins={0: Marimba, 1: PizzicatoStrings})\n",
    "env_file = musx.MidiFile(\"gamecube.mid\", [track0, sequence]).write()\n",
    "print('OK!')"
   ]
  }
 ],
 "metadata": {
  "interpreter": {
   "hash": "e379d0950867c636cba000115880b0ff1e917da5697c4d378b0e112959d29fd1"
  },
  "kernelspec": {
   "display_name": "Python 3.9.4 64-bit ('venv': venv)",
   "name": "python3"
  },
  "language_info": {
   "codemirror_mode": {
    "name": "ipython",
    "version": 3
   },
   "file_extension": ".py",
   "mimetype": "text/x-python",
   "name": "python",
   "nbconvert_exporter": "python",
   "pygments_lexer": "ipython3",
   "version": "3.9.4"
  },
  "orig_nbformat": 4
 },
 "nbformat": 4,
 "nbformat_minor": 2
}
